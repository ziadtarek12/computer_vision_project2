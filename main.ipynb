# Ensure required packages are installed in Colab
!pip install opencv-python-headless matplotlib

# Import necessary libraries
import cv2
import matplotlib.pyplot as plt
from google.colab.patches import cv2_imshow  # For displaying images in Colab
from google.colab import files  # For file uploads

# Upload images
uploaded = files.upload()

# Load grayscale images from uploaded files
query_img = cv2.imread('query.jpg', cv2.IMREAD_GRAYSCALE)
target_img = cv2.imread('target.jpg', cv2.IMREAD_GRAYSCALE)

# Initialize the ORB (Oriented FAST and Rotated BRIEF) detector
orb_detector = cv2.ORB_create()

# Detect keypoints and compute descriptors for both images
keypoints_query, descriptors_query = orb_detector.detectAndCompute(query_img, None)
keypoints_target, descriptors_target = orb_detector.detectAndCompute(target_img, None)

# Perform matching using the BFMatcher with Hamming distance
bf_matcher = cv2.BFMatcher(cv2.NORM_HAMMING, crossCheck=True)
matches = bf_matcher.match(descriptors_query, descriptors_target)

# Sort the matches by distance (quality of match)
sorted_matches = sorted(matches, key=lambda x: x.distance)

# Draw the top 10 matches
result_image = cv2.drawMatches(query_img, keypoints_query,
                               target_img, keypoints_target,
                               sorted_matches[:10], None, flags=cv2.DrawMatchesFlags_NOT_DRAW_SINGLE_POINTS)

# Display the result using Matplotlib
plt.figure(figsize=(16, 16))
plt.imshow(result_image)
plt.axis('off')  # Remove axis for better visualization
plt.savefig('/content/result.png', dpi=600)  # Save the result image
plt.show()

# Display saved image in Colab (optional, for verification)
cv2_imshow(cv2.imread('/content/result.png'))
