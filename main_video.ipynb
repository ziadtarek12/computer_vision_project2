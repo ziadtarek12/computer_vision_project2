{
  "nbformat": 4,
  "nbformat_minor": 0,
  "metadata": {
    "colab": {
      "provenance": []
    },
    "kernelspec": {
      "name": "python3",
      "display_name": "Python 3"
    },
    "language_info": {
      "name": "python"
    }
  },
  "cells": [
    {
      "cell_type": "code",
      "execution_count": 10,
      "metadata": {
        "colab": {
          "base_uri": "https://localhost:8080/",
          "height": 260
        },
        "id": "nBEzbTQjAsvc",
        "outputId": "6b1fe4bb-0bcd-47d6-aa7f-94be5555485d"
      },
      "outputs": [
        {
          "output_type": "stream",
          "name": "stdout",
          "text": [
            "Requirement already satisfied: opencv-python-headless in /usr/local/lib/python3.11/dist-packages (4.11.0.86)\n",
            "Requirement already satisfied: matplotlib in /usr/local/lib/python3.11/dist-packages (3.10.0)\n",
            "Requirement already satisfied: imageio in /usr/local/lib/python3.11/dist-packages (2.37.0)\n",
            "Requirement already satisfied: numpy>=1.21.2 in /usr/local/lib/python3.11/dist-packages (from opencv-python-headless) (2.0.2)\n",
            "Requirement already satisfied: contourpy>=1.0.1 in /usr/local/lib/python3.11/dist-packages (from matplotlib) (1.3.2)\n",
            "Requirement already satisfied: cycler>=0.10 in /usr/local/lib/python3.11/dist-packages (from matplotlib) (0.12.1)\n",
            "Requirement already satisfied: fonttools>=4.22.0 in /usr/local/lib/python3.11/dist-packages (from matplotlib) (4.57.0)\n",
            "Requirement already satisfied: kiwisolver>=1.3.1 in /usr/local/lib/python3.11/dist-packages (from matplotlib) (1.4.8)\n",
            "Requirement already satisfied: packaging>=20.0 in /usr/local/lib/python3.11/dist-packages (from matplotlib) (24.2)\n",
            "Requirement already satisfied: pillow>=8 in /usr/local/lib/python3.11/dist-packages (from matplotlib) (11.1.0)\n",
            "Requirement already satisfied: pyparsing>=2.3.1 in /usr/local/lib/python3.11/dist-packages (from matplotlib) (3.2.3)\n",
            "Requirement already satisfied: python-dateutil>=2.7 in /usr/local/lib/python3.11/dist-packages (from matplotlib) (2.8.2)\n",
            "Requirement already satisfied: six>=1.5 in /usr/local/lib/python3.11/dist-packages (from python-dateutil>=2.7->matplotlib) (1.17.0)\n",
            "Saving animated GIF with frame numbers…\n"
          ]
        },
        {
          "output_type": "display_data",
          "data": {
            "text/plain": [
              "<IPython.core.display.Javascript object>"
            ],
            "application/javascript": [
              "\n",
              "    async function download(id, filename, size) {\n",
              "      if (!google.colab.kernel.accessAllowed) {\n",
              "        return;\n",
              "      }\n",
              "      const div = document.createElement('div');\n",
              "      const label = document.createElement('label');\n",
              "      label.textContent = `Downloading \"${filename}\": `;\n",
              "      div.appendChild(label);\n",
              "      const progress = document.createElement('progress');\n",
              "      progress.max = size;\n",
              "      div.appendChild(progress);\n",
              "      document.body.appendChild(div);\n",
              "\n",
              "      const buffers = [];\n",
              "      let downloaded = 0;\n",
              "\n",
              "      const channel = await google.colab.kernel.comms.open(id);\n",
              "      // Send a message to notify the kernel that we're ready.\n",
              "      channel.send({})\n",
              "\n",
              "      for await (const message of channel.messages) {\n",
              "        // Send a message to notify the kernel that we're ready.\n",
              "        channel.send({})\n",
              "        if (message.buffers) {\n",
              "          for (const buffer of message.buffers) {\n",
              "            buffers.push(buffer);\n",
              "            downloaded += buffer.byteLength;\n",
              "            progress.value = downloaded;\n",
              "          }\n",
              "        }\n",
              "      }\n",
              "      const blob = new Blob(buffers, {type: 'application/binary'});\n",
              "      const a = document.createElement('a');\n",
              "      a.href = window.URL.createObjectURL(blob);\n",
              "      a.download = filename;\n",
              "      div.appendChild(a);\n",
              "      a.click();\n",
              "      div.remove();\n",
              "    }\n",
              "  "
            ]
          },
          "metadata": {}
        },
        {
          "output_type": "display_data",
          "data": {
            "text/plain": [
              "<IPython.core.display.Javascript object>"
            ],
            "application/javascript": [
              "download(\"download_7a5797cb-14fc-40ee-a480-eb3d6fe50411\", \"matched_with_frame_numbers.gif\", 8029569)"
            ]
          },
          "metadata": {}
        }
      ],
      "source": [
        "# 1. Install & import\n",
        "!pip install opencv-python-headless matplotlib imageio\n",
        "\n",
        "import cv2\n",
        "import imageio\n",
        "from google.colab import files\n",
        "import os\n",
        "\n",
        "# # 2. Upload your files (query2.jpg & video.mp4)\n",
        "# print(\"Upload your query image (query.png) and video file (input.mp4):\")\n",
        "# uploaded = files.upload()\n",
        "\n",
        "# # 3. Verify uploads\n",
        "# if 'query.png' not in uploaded or 'input.mp4' not in uploaded:\n",
        "#     raise FileNotFoundError(\"Please upload both 'query2.jpg' and 'video.mp4'.\")\n",
        "\n",
        "# 4. Load the query image in grayscale and set up ORB/BFMatcher\n",
        "query = cv2.imread('query.png', cv2.IMREAD_GRAYSCALE)\n",
        "orb = cv2.ORB_create()\n",
        "kp_query, des_query = orb.detectAndCompute(query, None)\n",
        "bf = cv2.BFMatcher(cv2.NORM_HAMMING, crossCheck=True)\n",
        "\n",
        "# 5. Open the video\n",
        "cap = cv2.VideoCapture('input.mp4')\n",
        "if not cap.isOpened():\n",
        "    raise FileNotFoundError(\"Couldn't open video.mp4\")\n",
        "\n",
        "# 6. Process frames and collect matched images\n",
        "frames = []\n",
        "max_frames = 10\n",
        "for i in range(max_frames):\n",
        "    ret, frame = cap.read()\n",
        "    if not ret:\n",
        "        break\n",
        "\n",
        "    gray = cv2.cvtColor(frame, cv2.COLOR_BGR2GRAY)\n",
        "    kp_frame, des_frame = orb.detectAndCompute(gray, None)\n",
        "    if des_frame is not None:\n",
        "        matches = bf.match(des_query, des_frame)\n",
        "        good = sorted(matches, key=lambda m: m.distance)[:20]\n",
        "        matched = cv2.drawMatches(\n",
        "            query, kp_query, frame, kp_frame, good, None,\n",
        "            flags=cv2.DrawMatchesFlags_NOT_DRAW_SINGLE_POINTS\n",
        "        )\n",
        "\n",
        "        # Add the frame number as text on the image\n",
        "        frame_text = f\"Frame {i+1}\"\n",
        "        cv2.putText(matched, frame_text, (10, 30), cv2.FONT_HERSHEY_SIMPLEX, 1, (0, 255, 0), 2, cv2.LINE_AA)\n",
        "\n",
        "        # Convert BGR → RGB for GIF\n",
        "        frames.append(cv2.cvtColor(matched, cv2.COLOR_BGR2RGB))\n",
        "\n",
        "cap.release()\n",
        "\n",
        "# 7. Write out GIF\n",
        "gif_path = '/content/matched_with_frame_numbers.gif'\n",
        "imageio.mimsave(gif_path, frames, fps=2)  # 2 frames per second\n",
        "\n",
        "# 8. Download\n",
        "print(\"Saving animated GIF with frame numbers…\")\n",
        "files.download(gif_path)\n"
      ]
    }
  ]
}